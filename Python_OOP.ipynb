{
  "nbformat": 4,
  "nbformat_minor": 0,
  "metadata": {
    "colab": {
      "name": "Python-OOP.ipynb",
      "provenance": [],
      "authorship_tag": "ABX9TyMzZqMWPThEFxrhKV/go4QV",
      "include_colab_link": true
    },
    "kernelspec": {
      "name": "python3",
      "display_name": "Python 3"
    },
    "language_info": {
      "name": "python"
    }
  },
  "cells": [
    {
      "cell_type": "markdown",
      "metadata": {
        "id": "view-in-github",
        "colab_type": "text"
      },
      "source": [
        "<a href=\"https://colab.research.google.com/github/manvendra7/Class_Object/blob/main/Python_OOP.ipynb\" target=\"_parent\"><img src=\"https://colab.research.google.com/assets/colab-badge.svg\" alt=\"Open In Colab\"/></a>"
      ]
    },
    {
      "cell_type": "markdown",
      "metadata": {
        "id": "LTyJIidSeFZw"
      },
      "source": [
        "\n",
        "\n",
        "# Object Oriented Programming\n",
        "\n",
        "We are learning about pyhton objects nd classes\n",
        "\n"
      ]
    },
    {
      "cell_type": "code",
      "metadata": {
        "colab": {
          "base_uri": "https://localhost:8080/"
        },
        "id": "7LJxJjAsJSsE",
        "outputId": "b0459424-a7bb-4e04-c709-868c1e64fb14"
      },
      "source": [
        "a = 10\n",
        "print(type(a))"
      ],
      "execution_count": 1,
      "outputs": [
        {
          "output_type": "stream",
          "text": [
            "<class 'int'>\n"
          ],
          "name": "stdout"
        }
      ]
    },
    {
      "cell_type": "code",
      "metadata": {
        "colab": {
          "base_uri": "https://localhost:8080/"
        },
        "id": "9vJM7BMbJYL8",
        "outputId": "8aa4147c-7c9d-4141-afc5-f83f30b7ad30"
      },
      "source": [
        "b = 20\n",
        "print(type(b))"
      ],
      "execution_count": 2,
      "outputs": [
        {
          "output_type": "stream",
          "text": [
            "<class 'int'>\n"
          ],
          "name": "stdout"
        }
      ]
    },
    {
      "cell_type": "code",
      "metadata": {
        "colab": {
          "base_uri": "https://localhost:8080/"
        },
        "id": "TEeOAigXJYRN",
        "outputId": "f526c915-3a16-44ff-cd81-d7d85629e5e2"
      },
      "source": [
        "c = [10,11,12,13,14]\n",
        "print(type(c))"
      ],
      "execution_count": 3,
      "outputs": [
        {
          "output_type": "stream",
          "text": [
            "<class 'list'>\n"
          ],
          "name": "stdout"
        }
      ]
    },
    {
      "cell_type": "code",
      "metadata": {
        "colab": {
          "base_uri": "https://localhost:8080/"
        },
        "id": "t9CnrZWDJYU-",
        "outputId": "f8d2fdfb-c628-4762-b377-a4e55ab385aa"
      },
      "source": [
        "d = [10,12,13,14]\n",
        "print(type(d))"
      ],
      "execution_count": 4,
      "outputs": [
        {
          "output_type": "stream",
          "text": [
            "<class 'list'>\n"
          ],
          "name": "stdout"
        }
      ]
    },
    {
      "cell_type": "code",
      "metadata": {
        "colab": {
          "base_uri": "https://localhost:8080/"
        },
        "id": "UWr27e4uJYZr",
        "outputId": "702d0366-a857-4a19-9bdc-15704d2d1504"
      },
      "source": [
        "print(dir(list))"
      ],
      "execution_count": 5,
      "outputs": [
        {
          "output_type": "stream",
          "text": [
            "['__add__', '__class__', '__contains__', '__delattr__', '__delitem__', '__dir__', '__doc__', '__eq__', '__format__', '__ge__', '__getattribute__', '__getitem__', '__gt__', '__hash__', '__iadd__', '__imul__', '__init__', '__init_subclass__', '__iter__', '__le__', '__len__', '__lt__', '__mul__', '__ne__', '__new__', '__reduce__', '__reduce_ex__', '__repr__', '__reversed__', '__rmul__', '__setattr__', '__setitem__', '__sizeof__', '__str__', '__subclasshook__', 'append', 'clear', 'copy', 'count', 'extend', 'index', 'insert', 'pop', 'remove', 'reverse', 'sort']\n"
          ],
          "name": "stdout"
        }
      ]
    },
    {
      "cell_type": "code",
      "metadata": {
        "colab": {
          "base_uri": "https://localhost:8080/"
        },
        "id": "eqlo8Zb4JYdW",
        "outputId": "3f515f41-3b9c-4c8a-ff2b-2abc7bf02ff7"
      },
      "source": [
        "print(dir(tuple))"
      ],
      "execution_count": 6,
      "outputs": [
        {
          "output_type": "stream",
          "text": [
            "['__add__', '__class__', '__contains__', '__delattr__', '__dir__', '__doc__', '__eq__', '__format__', '__ge__', '__getattribute__', '__getitem__', '__getnewargs__', '__gt__', '__hash__', '__init__', '__init_subclass__', '__iter__', '__le__', '__len__', '__lt__', '__mul__', '__ne__', '__new__', '__reduce__', '__reduce_ex__', '__repr__', '__rmul__', '__setattr__', '__sizeof__', '__str__', '__subclasshook__', 'count', 'index']\n"
          ],
          "name": "stdout"
        }
      ]
    },
    {
      "cell_type": "code",
      "metadata": {
        "id": "5zAT_JOuJYh_"
      },
      "source": [
        "class Employee:  #creating class\n",
        "  pass"
      ],
      "execution_count": 10,
      "outputs": []
    },
    {
      "cell_type": "code",
      "metadata": {
        "colab": {
          "base_uri": "https://localhost:8080/"
        },
        "id": "oQs1oYLXMQ6L",
        "outputId": "347f2a39-c862-476d-da33-98ea724e3a60"
      },
      "source": [
        "emp1 = Employee()\n",
        "print(emp1)"
      ],
      "execution_count": 14,
      "outputs": [
        {
          "output_type": "stream",
          "text": [
            "<__main__.Employee object at 0x7f30bc267590>\n"
          ],
          "name": "stdout"
        }
      ]
    },
    {
      "cell_type": "code",
      "metadata": {
        "id": "mnhkKkA4MQ9f"
      },
      "source": [
        "# dct = {'Fname' : ['Aman','Joe','Rahul'],\n",
        "#  'Lname' : ['Kumar','Smith','Gupta'],\n",
        "#  'Age' : [32,34],\n",
        "#  'Sal' : [20,25,21],\n",
        "#  'Position' : ['DA','DA','DA']}"
      ],
      "execution_count": 15,
      "outputs": []
    },
    {
      "cell_type": "code",
      "metadata": {
        "id": "nGkTRLB5JYld"
      },
      "source": [
        "# Arun, S, 26, 20, DA\n",
        "# dct['Fname'].append('Arun')"
      ],
      "execution_count": 18,
      "outputs": []
    },
    {
      "cell_type": "code",
      "metadata": {
        "colab": {
          "base_uri": "https://localhost:8080/"
        },
        "id": "xgS38wf7JYpn",
        "outputId": "eddfe96c-4170-4402-9b21-881a974453fe"
      },
      "source": [
        "# dct"
      ],
      "execution_count": 19,
      "outputs": [
        {
          "output_type": "execute_result",
          "data": {
            "text/plain": [
              "{'Age': [32, 34],\n",
              " 'Fname': ['Aman', 'Joe', 'Rahul', 'Arun'],\n",
              " 'Lname': ['Kumar', 'Smith', 'Gupta'],\n",
              " 'Position': ['DA', 'DA', 'DA'],\n",
              " 'Sal': [20, 25, 21]}"
            ]
          },
          "metadata": {
            "tags": []
          },
          "execution_count": 19
        }
      ]
    },
    {
      "cell_type": "code",
      "metadata": {
        "id": "ClRoNd3xRkeN"
      },
      "source": [
        "#functions --- def \n",
        "#functions inside a class is known as method"
      ],
      "execution_count": null,
      "outputs": []
    },
    {
      "cell_type": "code",
      "metadata": {
        "colab": {
          "base_uri": "https://localhost:8080/"
        },
        "id": "t_AdHPVmJYtz",
        "outputId": "f5d1e40e-bba0-4e91-c434-38aff8614cc4"
      },
      "source": [
        "class Employee:\n",
        "  \n",
        "  def __init__(self,Fname,Lname,Age,sal):  #constructor method, init method\n",
        "    self.Fname = Fname\n",
        "    self.Lname = Lname\n",
        "    self.Age = Age\n",
        "    self.sal = sal\n",
        "\n",
        "emp1 = Employee('Arun','Kumar',26,25000)\n",
        "emp2 = Employee('Joe','Smith',32,45000)\n",
        "\n",
        "print(emp1.Fname)"
      ],
      "execution_count": 43,
      "outputs": [
        {
          "output_type": "stream",
          "text": [
            "Arun\n"
          ],
          "name": "stdout"
        }
      ]
    },
    {
      "cell_type": "code",
      "metadata": {
        "id": "PFnxgErGd7Sv"
      },
      "source": [
        ""
      ],
      "execution_count": null,
      "outputs": []
    },
    {
      "cell_type": "code",
      "metadata": {
        "id": "PuzEIFbxPW4T"
      },
      "source": [
        "# emp1 = Employee()\n",
        "# # print(emp1)\n",
        "\n",
        "# emp1.Fname = 'Arun'\n",
        "# emp1.Lname = 'Kumar'\n",
        "# emp1.Age = 29\n",
        "# emp1.sal = 35\n",
        "\n",
        "# emp2 = Employee()\n",
        "# emp2.Fname = 'Aman'\n",
        "# emp2.Lname = 'Kumar'\n",
        "# emp2.Age = 24\n",
        "# emp2.sal = 30"
      ],
      "execution_count": 27,
      "outputs": []
    },
    {
      "cell_type": "code",
      "metadata": {
        "colab": {
          "base_uri": "https://localhost:8080/"
        },
        "id": "BTLS2I6xSpA5",
        "outputId": "4589867d-d8b1-4365-aa0f-b4c2a43b2336"
      },
      "source": [
        "emp1 = Employee('Arun','Kumar',25,25000)\n",
        "# print(emp1.Fname)\n",
        "# print(emp1.Lname)\n",
        "\n",
        "emp2 = Employee('Joe','Smith',32,45000)\n",
        "print(emp2.Fname)"
      ],
      "execution_count": 36,
      "outputs": [
        {
          "output_type": "stream",
          "text": [
            "Joe\n"
          ],
          "name": "stdout"
        }
      ]
    },
    {
      "cell_type": "code",
      "metadata": {
        "colab": {
          "base_uri": "https://localhost:8080/"
        },
        "id": "qa-v_LA8PW7i",
        "outputId": "ca1f95f1-4c7b-4db7-d4ae-b5cf690e935d"
      },
      "source": [
        "# print(emp1.Fname)\n",
        "# print(emp1.Lname)\n",
        "# print(emp1.Age)"
      ],
      "execution_count": 28,
      "outputs": [
        {
          "output_type": "stream",
          "text": [
            "Arun\n",
            "Kumar\n",
            "29\n"
          ],
          "name": "stdout"
        }
      ]
    },
    {
      "cell_type": "code",
      "metadata": {
        "colab": {
          "base_uri": "https://localhost:8080/"
        },
        "id": "VnCHwBzAPW-l",
        "outputId": "d7069b70-6f72-42a4-8419-b3dd9afe896f"
      },
      "source": [
        "print(emp2.Fname)\n",
        "print(emp2.Lname)\n",
        "print(emp2.Age)"
      ],
      "execution_count": 29,
      "outputs": [
        {
          "output_type": "stream",
          "text": [
            "Aman\n",
            "Kumar\n",
            "24\n"
          ],
          "name": "stdout"
        }
      ]
    },
    {
      "cell_type": "code",
      "metadata": {
        "id": "vQte4Ew3PXBi"
      },
      "source": [
        ""
      ],
      "execution_count": null,
      "outputs": []
    },
    {
      "cell_type": "code",
      "metadata": {
        "id": "x89ZOpIHJYyH"
      },
      "source": [
        ""
      ],
      "execution_count": null,
      "outputs": []
    },
    {
      "cell_type": "code",
      "metadata": {
        "id": "CvSjhDtPJY1o"
      },
      "source": [
        ""
      ],
      "execution_count": null,
      "outputs": []
    }
  ]
}